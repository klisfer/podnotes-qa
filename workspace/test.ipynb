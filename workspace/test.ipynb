{
 "cells": [
  {
   "cell_type": "code",
   "execution_count": 1,
   "metadata": {},
   "outputs": [
    {
     "name": "stdout",
     "output_type": "stream",
     "text": [
      "Sun Jun  4 21:47:52 2023       \n",
      "+---------------------------------------------------------------------------------------+\n",
      "| NVIDIA-SMI 531.14                 Driver Version: 531.14       CUDA Version: 12.1     |\n",
      "|-----------------------------------------+----------------------+----------------------+\n",
      "| GPU  Name                      TCC/WDDM | Bus-Id        Disp.A | Volatile Uncorr. ECC |\n",
      "| Fan  Temp  Perf            Pwr:Usage/Cap|         Memory-Usage | GPU-Util  Compute M. |\n",
      "|                                         |                      |               MIG M. |\n",
      "|=========================================+======================+======================|\n",
      "|   0  NVIDIA GeForce RTX 3070 Ti    WDDM | 00000000:2B:00.0  On |                  N/A |\n",
      "|  0%   43C    P8               14W / 290W|   1172MiB /  8192MiB |     14%      Default |\n",
      "|                                         |                      |                  N/A |\n",
      "+-----------------------------------------+----------------------+----------------------+\n",
      "                                                                                         \n",
      "+---------------------------------------------------------------------------------------+\n",
      "| Processes:                                                                            |\n",
      "|  GPU   GI   CI        PID   Type   Process name                            GPU Memory |\n",
      "|        ID   ID                                                             Usage      |\n",
      "|=======================================================================================|\n",
      "|    0   N/A  N/A      1728    C+G   ...ekyb3d8bbwe\\PhoneExperienceHost.exe    N/A      |\n",
      "|    0   N/A  N/A      1768    C+G   ...crosoft\\Edge\\Application\\msedge.exe    N/A      |\n",
      "|    0   N/A  N/A      5696    C+G   ...nt.CBS_cw5n1h2txyewy\\SearchHost.exe    N/A      |\n",
      "|    0   N/A  N/A      7028    C+G   ...60.0_x86__zpdnekdrzrea0\\Spotify.exe    N/A      |\n",
      "|    0   N/A  N/A     11584    C+G   ...Programs\\Microsoft VS Code\\Code.exe    N/A      |\n",
      "|    0   N/A  N/A     11636    C+G   ...2txyewy\\StartMenuExperienceHost.exe    N/A      |\n",
      "|    0   N/A  N/A     11708    C+G   ...zen Controller\\Ryzen Controller.exe    N/A      |\n",
      "|    0   N/A  N/A     11936    C+G   ...on\\113.0.1774.57\\msedgewebview2.exe    N/A      |\n",
      "|    0   N/A  N/A     12868    C+G   ...ta\\Local\\Programs\\Notion\\Notion.exe    N/A      |\n",
      "|    0   N/A  N/A     13936    C+G   ...GeForce Experience\\NVIDIA Share.exe    N/A      |\n",
      "|    0   N/A  N/A     14004    C+G   ...GeForce Experience\\NVIDIA Share.exe    N/A      |\n",
      "|    0   N/A  N/A     15100    C+G   C:\\Windows\\explorer.exe                   N/A      |\n",
      "|    0   N/A  N/A     18016    C+G   ...oogle\\Chrome\\Application\\chrome.exe    N/A      |\n",
      "|    0   N/A  N/A     18868    C+G   ...tionsPlus\\logioptionsplus_agent.exe    N/A      |\n",
      "|    0   N/A  N/A     19244    C+G   ...5n1h2txyewy\\ShellExperienceHost.exe    N/A      |\n",
      "|    0   N/A  N/A     20416    C+G   ...CBS_cw5n1h2txyewy\\TextInputHost.exe    N/A      |\n",
      "|    0   N/A  N/A     21540    C+G   ...siveControlPanel\\SystemSettings.exe    N/A      |\n",
      "|    0   N/A  N/A     24232    C+G   ...\\cef\\cef.win7x64\\steamwebhelper.exe    N/A      |\n",
      "|    0   N/A  N/A     26060    C+G   C:\\Windows\\System32\\WWAHost.exe           N/A      |\n",
      "|    0   N/A  N/A     26484    C+G   ...t.LockApp_cw5n1h2txyewy\\LockApp.exe    N/A      |\n",
      "|    0   N/A  N/A     27208    C+G   ...pdnekdrzrea0\\XboxGameBarSpotify.exe    N/A      |\n",
      "+---------------------------------------------------------------------------------------+\n"
     ]
    }
   ],
   "source": [
    "!nvidia-smi"
   ]
  },
  {
   "cell_type": "code",
   "execution_count": 4,
   "metadata": {},
   "outputs": [
    {
     "name": "stdout",
     "output_type": "stream",
     "text": [
      "Requirement already satisfied: datasets in c:\\users\\win10\\documents\\podnotes-qa\\venv\\lib\\site-packages (2.12.0)\n",
      "Requirement already satisfied: transformers in c:\\users\\win10\\documents\\podnotes-qa\\venv\\lib\\site-packages (4.28.1)\n",
      "Collecting rouge_score\n",
      "  Downloading rouge_score-0.1.2.tar.gz (17 kB)\n",
      "  Preparing metadata (setup.py): started\n",
      "  Preparing metadata (setup.py): finished with status 'done'\n",
      "Requirement already satisfied: fsspec[http]>=2021.11.1 in c:\\users\\win10\\documents\\podnotes-qa\\venv\\lib\\site-packages (from datasets) (2023.4.0)\n",
      "Requirement already satisfied: pyarrow>=8.0.0 in c:\\users\\win10\\documents\\podnotes-qa\\venv\\lib\\site-packages (from datasets) (12.0.0)\n",
      "Requirement already satisfied: pyyaml>=5.1 in c:\\users\\win10\\documents\\podnotes-qa\\venv\\lib\\site-packages (from datasets) (6.0)\n",
      "Requirement already satisfied: pandas in c:\\users\\win10\\documents\\podnotes-qa\\venv\\lib\\site-packages (from datasets) (2.0.1)\n",
      "Requirement already satisfied: responses<0.19 in c:\\users\\win10\\documents\\podnotes-qa\\venv\\lib\\site-packages (from datasets) (0.18.0)\n",
      "Requirement already satisfied: dill<0.3.7,>=0.3.0 in c:\\users\\win10\\documents\\podnotes-qa\\venv\\lib\\site-packages (from datasets) (0.3.6)\n",
      "Requirement already satisfied: xxhash in c:\\users\\win10\\documents\\podnotes-qa\\venv\\lib\\site-packages (from datasets) (3.2.0)\n",
      "Requirement already satisfied: aiohttp in c:\\users\\win10\\documents\\podnotes-qa\\venv\\lib\\site-packages (from datasets) (3.8.4)\n",
      "Requirement already satisfied: huggingface-hub<1.0.0,>=0.11.0 in c:\\users\\win10\\documents\\podnotes-qa\\venv\\lib\\site-packages (from datasets) (0.14.1)\n",
      "Requirement already satisfied: tqdm>=4.62.1 in c:\\users\\win10\\documents\\podnotes-qa\\venv\\lib\\site-packages (from datasets) (4.65.0)\n",
      "Requirement already satisfied: multiprocess in c:\\users\\win10\\documents\\podnotes-qa\\venv\\lib\\site-packages (from datasets) (0.70.14)\n",
      "Requirement already satisfied: requests>=2.19.0 in c:\\users\\win10\\documents\\podnotes-qa\\venv\\lib\\site-packages (from datasets) (2.29.0)\n",
      "Requirement already satisfied: numpy>=1.17 in c:\\users\\win10\\documents\\podnotes-qa\\venv\\lib\\site-packages (from datasets) (1.24.3)\n",
      "Requirement already satisfied: packaging in c:\\users\\win10\\documents\\podnotes-qa\\venv\\lib\\site-packages (from datasets) (23.1)\n",
      "Requirement already satisfied: filelock in c:\\users\\win10\\documents\\podnotes-qa\\venv\\lib\\site-packages (from transformers) (3.12.0)\n",
      "Requirement already satisfied: regex!=2019.12.17 in c:\\users\\win10\\documents\\podnotes-qa\\venv\\lib\\site-packages (from transformers) (2023.5.5)\n",
      "Requirement already satisfied: tokenizers!=0.11.3,<0.14,>=0.11.1 in c:\\users\\win10\\documents\\podnotes-qa\\venv\\lib\\site-packages (from transformers) (0.13.3)\n",
      "Collecting absl-py\n",
      "  Downloading absl_py-1.4.0-py3-none-any.whl (126 kB)\n",
      "     -------------------------------------- 126.5/126.5 kB 2.5 MB/s eta 0:00:00\n",
      "Requirement already satisfied: nltk in c:\\users\\win10\\documents\\podnotes-qa\\venv\\lib\\site-packages (from rouge_score) (3.8.1)\n",
      "Requirement already satisfied: six>=1.14.0 in c:\\users\\win10\\documents\\podnotes-qa\\venv\\lib\\site-packages (from rouge_score) (1.16.0)\n",
      "Requirement already satisfied: attrs>=17.3.0 in c:\\users\\win10\\documents\\podnotes-qa\\venv\\lib\\site-packages (from aiohttp->datasets) (23.1.0)\n",
      "Requirement already satisfied: charset-normalizer<4.0,>=2.0 in c:\\users\\win10\\documents\\podnotes-qa\\venv\\lib\\site-packages (from aiohttp->datasets) (3.1.0)\n",
      "Requirement already satisfied: aiosignal>=1.1.2 in c:\\users\\win10\\documents\\podnotes-qa\\venv\\lib\\site-packages (from aiohttp->datasets) (1.3.1)\n",
      "Requirement already satisfied: frozenlist>=1.1.1 in c:\\users\\win10\\documents\\podnotes-qa\\venv\\lib\\site-packages (from aiohttp->datasets) (1.3.3)\n",
      "Requirement already satisfied: yarl<2.0,>=1.0 in c:\\users\\win10\\documents\\podnotes-qa\\venv\\lib\\site-packages (from aiohttp->datasets) (1.9.2)\n",
      "Requirement already satisfied: multidict<7.0,>=4.5 in c:\\users\\win10\\documents\\podnotes-qa\\venv\\lib\\site-packages (from aiohttp->datasets) (6.0.4)\n",
      "Requirement already satisfied: async-timeout<5.0,>=4.0.0a3 in c:\\users\\win10\\documents\\podnotes-qa\\venv\\lib\\site-packages (from aiohttp->datasets) (4.0.2)\n",
      "Requirement already satisfied: typing-extensions>=3.7.4.3 in c:\\users\\win10\\documents\\podnotes-qa\\venv\\lib\\site-packages (from huggingface-hub<1.0.0,>=0.11.0->datasets) (4.5.0)\n",
      "Requirement already satisfied: certifi>=2017.4.17 in c:\\users\\win10\\documents\\podnotes-qa\\venv\\lib\\site-packages (from requests>=2.19.0->datasets) (2022.12.7)\n",
      "Requirement already satisfied: idna<4,>=2.5 in c:\\users\\win10\\documents\\podnotes-qa\\venv\\lib\\site-packages (from requests>=2.19.0->datasets) (3.4)\n",
      "Requirement already satisfied: urllib3<1.27,>=1.21.1 in c:\\users\\win10\\documents\\podnotes-qa\\venv\\lib\\site-packages (from requests>=2.19.0->datasets) (1.26.15)\n",
      "Requirement already satisfied: colorama in c:\\users\\win10\\documents\\podnotes-qa\\venv\\lib\\site-packages (from tqdm>=4.62.1->datasets) (0.4.6)\n",
      "Requirement already satisfied: click in c:\\users\\win10\\documents\\podnotes-qa\\venv\\lib\\site-packages (from nltk->rouge_score) (8.1.3)\n",
      "Requirement already satisfied: joblib in c:\\users\\win10\\documents\\podnotes-qa\\venv\\lib\\site-packages (from nltk->rouge_score) (1.2.0)\n",
      "Requirement already satisfied: tzdata>=2022.1 in c:\\users\\win10\\documents\\podnotes-qa\\venv\\lib\\site-packages (from pandas->datasets) (2023.3)\n",
      "Requirement already satisfied: python-dateutil>=2.8.2 in c:\\users\\win10\\documents\\podnotes-qa\\venv\\lib\\site-packages (from pandas->datasets) (2.8.2)\n",
      "Requirement already satisfied: pytz>=2020.1 in c:\\users\\win10\\documents\\podnotes-qa\\venv\\lib\\site-packages (from pandas->datasets) (2023.3)\n",
      "Installing collected packages: absl-py, rouge_score\n",
      "  Running setup.py install for rouge_score: started\n",
      "  Running setup.py install for rouge_score: finished with status 'done'\n",
      "Successfully installed absl-py-1.4.0 rouge_score-0.1.2\n"
     ]
    },
    {
     "name": "stderr",
     "output_type": "stream",
     "text": [
      "  DEPRECATION: rouge_score is being installed using the legacy 'setup.py install' method, because it does not have a 'pyproject.toml' and the 'wheel' package is not installed. pip 23.1 will enforce this behaviour change. A possible replacement is to enable the '--use-pep517' option. Discussion can be found at https://github.com/pypa/pip/issues/8559\n",
      "\n",
      "[notice] A new release of pip available: 22.3.1 -> 23.1.2\n",
      "[notice] To update, run: python.exe -m pip install --upgrade pip\n"
     ]
    }
   ],
   "source": [
    "!pip install datasets transformers rouge_score\n"
   ]
  },
  {
   "cell_type": "code",
   "execution_count": 2,
   "metadata": {},
   "outputs": [
    {
     "name": "stderr",
     "output_type": "stream",
     "text": [
      "c:\\Users\\win10\\Documents\\podnotes-qa\\venv\\lib\\site-packages\\tqdm\\auto.py:21: TqdmWarning: IProgress not found. Please update jupyter and ipywidgets. See https://ipywidgets.readthedocs.io/en/stable/user_install.html\n",
      "  from .autonotebook import tqdm as notebook_tqdm\n"
     ]
    }
   ],
   "source": [
    "from transformers import LEDForConditionalGeneration, LEDTokenizer"
   ]
  },
  {
   "cell_type": "code",
   "execution_count": 3,
   "metadata": {},
   "outputs": [],
   "source": [
    "tokenizer = LEDTokenizer.from_pretrained(\"pszemraj/led-large-book-summary\")\n",
    "model = LEDForConditionalGeneration.from_pretrained(\"pszemraj/led-large-book-summary\").to(\"cuda\").half()"
   ]
  },
  {
   "cell_type": "code",
   "execution_count": 8,
   "metadata": {},
   "outputs": [],
   "source": [
    "import torch\n",
    "\n",
    "def generate_answer(batch):\n",
    "  inputs_dict = tokenizer(batch[\"article\"], padding=\"max_length\", max_length=8384, return_tensors=\"pt\", truncation=True)\n",
    "  input_ids = inputs_dict.input_ids.to(\"cuda\")\n",
    "  attention_mask = inputs_dict.attention_mask.to(\"cuda\")\n",
    "\n",
    "  global_attention_mask = torch.zeros_like(attention_mask)\n",
    "  # put global attention on <s> token\n",
    "  global_attention_mask[:, 0] = 1\n",
    "\n",
    "  predicted_abstract_ids = model.generate(input_ids, attention_mask=attention_mask, global_attention_mask=global_attention_mask, max_length=8112, num_beams=4)\n",
    "  batch[\"predicted_abstract\"] = tokenizer.batch_decode(predicted_abstract_ids, skip_special_tokens=True)\n",
    "  return batch\n"
   ]
  },
  {
   "cell_type": "code",
   "execution_count": 10,
   "metadata": {},
   "outputs": [
    {
     "name": "stdout",
     "output_type": "stream",
     "text": [
      "c:\\Users\\win10\\Documents\\podnotes-qa\\workspace\n",
      "['On his third appearance on the podcast, Dr. Barlow speaks with Max Tegmark about artificial intelligence and why it\\'s important to have the right kind of people around you in order to be a good human being. The show is brought to you by Indeed, which also sponsors the show. Indeed gives you access to its suite of tools including an AI tool called notion, which allows you to write better, smarter, more complex essays faster than anyone else ever has. In addition, you can do all sorts of other cool stuff with it like create presentations, make notes, edit documents, etc. On top of this, there\\'s the notion AI tool, which lets you combine large language models into a productivity note-taking device. You can use it for anything from note taking to working on big projects to tracking your health or finding out about new job opportunities. Afterward, they talk about whether there might actually be intelligent life in the universe. He thinks there probably is, but that we need to keep some distance between ourselves and the rest of the universe if we want to enjoy the benefits of science and technology. Also, he says, we don\\'t necessarily need to stop using big data analysis--in fact, the best decisions about our lives should be based on the things that come from our own self-tracking devices. For example, someone like InsideTracker, which analyzes your blood and body measurements to give you recommendations about how to live a healthier lifestyle, should be done regularly. And speaking of OutsideTrack, which uses machine learning to predict changes in biological markers over time, shouldn\\'t be done just once in a given period of time. What\\'s most important to him is having the right sort of team: If you\\'re looking to find a job at Indeed, go to Indeed.com/lax. Finally, the discussion turns to the rise of artificial intelligence. Do you think there are intelligent alien civilizations out there? Yes, he thinks there are. They\\'ll be much more alien than a cat or even the most exotic animal because they won\\'t have gone through the usual Darwinian competition where everybody cares about self-preservation, fear of death, etc.; instead, they\\'ll be more naturalistic. How does he know this? Well, he\\'s worked with Chad GPT, one of the pioneering neural networks used by Microsoft, which was designed to help mothers teach their kids how to write high school graduation speeches to their graduating class. Now, though, he wants to explore how humans communicate with these distant beings. More specifically, he talks about what he learned from his parents when they died. Mostly, he got his fascination for math from his dad, but mostly his obsession for consciousness came from his mom. Another thing he took from both of them was the ability not to buy into what everybody else was saying. That\\'s why he\\'s so happy to hear that you\\'re at the top of your field and still able to tackle the big questions in your own way. As far as he\\'s concerned, it\\'s admirable that you remain completely independent rather than following the advice of others. Unfortunately, losing his parents made him question everything; it makes him less afraid of other people telling him he\\'s an idiot. It helps him focus on what matters to him. Next, he discusses his current project, which is building an artificial intelligence that could replace not only its software but also its hardware. He calls it \"the most important fork the humanity has reached in its over 100,000 years on the planet\" and wonders if it will either be the best thing ever to happen to humanity or the worst. Later, he suggests that maybe they should pause the development of these systems until they figure out how to make sure they work safely. Again, he refers back to the case of Don\\'t Look Up, a movie about an artist building an advanced race of birds before realizing they need to build an entire race of machines first. Basically, he sees this as similar to constructing an advanced aircraft, except instead of building an old extinct race of insects, they\\'re building an entirely new race of smart ones. Then he brings up the idea of rebranding ourselves as \"Homo sapiens,\" thinking of ourselves as the smartest people on earth. Right now, he argues, we\\'ve started to think of ourselves simply as the fittest people on Earth, but someday, perhaps, we\\'ll look down on those who aren\\'t smart enough to reach the same level of intelligence as us. Ultimately, he feels that replacing experience with information processing with value adds another level of value to what it means to be human. Of course, this doesn\\'t mean we should abandon the pursuit of knowledge altogether, but let\\'s try to share ideas with others.']\n"
     ]
    }
   ],
   "source": [
    "import os\n",
    "print(os.getcwd())\n",
    "\n",
    "\n",
    "with open('episode.txt', 'r') as file:\n",
    "        contents = file.read()\n",
    "        batch = {\"article\": contents}\n",
    "\n",
    "        result = generate_answer(batch)\n",
    "        print(result['predicted_abstract'])\n"
   ]
  },
  {
   "cell_type": "code",
   "execution_count": null,
   "metadata": {},
   "outputs": [],
   "source": []
  }
 ],
 "metadata": {
  "kernelspec": {
   "display_name": "venv",
   "language": "python",
   "name": "python3"
  },
  "language_info": {
   "codemirror_mode": {
    "name": "ipython",
    "version": 3
   },
   "file_extension": ".py",
   "mimetype": "text/x-python",
   "name": "python",
   "nbconvert_exporter": "python",
   "pygments_lexer": "ipython3",
   "version": "3.10.9"
  },
  "orig_nbformat": 4
 },
 "nbformat": 4,
 "nbformat_minor": 2
}
